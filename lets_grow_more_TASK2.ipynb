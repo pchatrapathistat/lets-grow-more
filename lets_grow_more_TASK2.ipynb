{
  "nbformat": 4,
  "nbformat_minor": 0,
  "metadata": {
    "colab": {
      "name": "lets_grow_more_TASK2.ipynb",
      "provenance": [],
      "collapsed_sections": []
    },
    "kernelspec": {
      "name": "python3",
      "display_name": "Python 3"
    },
    "language_info": {
      "name": "python"
    }
  },
  "cells": [
    {
      "cell_type": "markdown",
      "metadata": {
        "id": "Vl709MjdhQG_"
      },
      "source": [
        "Beginner Level Task 2 - Stock Market Prediction And Forecasting Using Stacked LSTM"
      ]
    },
    {
      "cell_type": "code",
      "metadata": {
        "id": "KAFu-StAdmgq"
      },
      "source": [
        "#stock market analysis is divided into two parts – Fundamental Analysis and Technical Analysis.\n",
        "\n",
        "#Fundamental Analysis involves analyzing the company’s future profitability on the basis of its current business environment\n",
        "#and financial performance.\n",
        "#Technical Analysis, on the other hand, includes reading the charts and using statistical figures to identify the trends \n",
        "#in the stock market."
      ],
      "execution_count": null,
      "outputs": []
    },
    {
      "cell_type": "code",
      "metadata": {
        "id": "ladSdlJ4eVo3"
      },
      "source": [
        "#We will first load the dataset and define the target variable for the problem:"
      ],
      "execution_count": null,
      "outputs": []
    },
    {
      "cell_type": "code",
      "metadata": {
        "id": "D2OkEYoteWbm"
      },
      "source": [
        "#import packages\n",
        "import numpy as np\n",
        "\n",
        "#to plot within notebook\n",
        "import matplotlib.pyplot as plt\n",
        "%matplotlib inline"
      ],
      "execution_count": null,
      "outputs": []
    },
    {
      "cell_type": "code",
      "metadata": {
        "id": "jgraN18seZg9"
      },
      "source": [
        "#setting figure size\n",
        "from matplotlib.pylab import rcParams\n",
        "rcParams['figure.figsize'] = 20,10"
      ],
      "execution_count": null,
      "outputs": []
    },
    {
      "cell_type": "code",
      "metadata": {
        "id": "WdfIQlrcecGa"
      },
      "source": [
        "import pandas as pd #for analysis and manipulation of numerical tables"
      ],
      "execution_count": null,
      "outputs": []
    },
    {
      "cell_type": "code",
      "metadata": {
        "id": "563RWkPFehMv"
      },
      "source": [
        "#for normalizing data\n",
        "from sklearn.preprocessing import MinMaxScaler\n",
        "scaler = MinMaxScaler(feature_range=(0, 1))"
      ],
      "execution_count": null,
      "outputs": []
    },
    {
      "cell_type": "code",
      "metadata": {
        "id": "S0yKfqdQekMT"
      },
      "source": [
        "#read the file \n",
        "url = \"https://raw.githubusercontent.com/mwitiderrick/stockprice/master/NSE-TATAGLOBAL.csv\"\n",
        "stock_data = pd.read_csv(url)"
      ],
      "execution_count": null,
      "outputs": []
    },
    {
      "cell_type": "code",
      "metadata": {
        "colab": {
          "base_uri": "https://localhost:8080/",
          "height": 204
        },
        "id": "5v-S6nlFeobG",
        "outputId": "7aa0c11a-59af-4b56-bc19-34a7957d9894"
      },
      "source": [
        "stock_data.head()"
      ],
      "execution_count": null,
      "outputs": [
        {
          "output_type": "execute_result",
          "data": {
            "text/html": [
              "<div>\n",
              "<style scoped>\n",
              "    .dataframe tbody tr th:only-of-type {\n",
              "        vertical-align: middle;\n",
              "    }\n",
              "\n",
              "    .dataframe tbody tr th {\n",
              "        vertical-align: top;\n",
              "    }\n",
              "\n",
              "    .dataframe thead th {\n",
              "        text-align: right;\n",
              "    }\n",
              "</style>\n",
              "<table border=\"1\" class=\"dataframe\">\n",
              "  <thead>\n",
              "    <tr style=\"text-align: right;\">\n",
              "      <th></th>\n",
              "      <th>Date</th>\n",
              "      <th>Open</th>\n",
              "      <th>High</th>\n",
              "      <th>Low</th>\n",
              "      <th>Last</th>\n",
              "      <th>Close</th>\n",
              "      <th>Total Trade Quantity</th>\n",
              "      <th>Turnover (Lacs)</th>\n",
              "    </tr>\n",
              "  </thead>\n",
              "  <tbody>\n",
              "    <tr>\n",
              "      <th>0</th>\n",
              "      <td>2018-09-28</td>\n",
              "      <td>234.05</td>\n",
              "      <td>235.95</td>\n",
              "      <td>230.20</td>\n",
              "      <td>233.50</td>\n",
              "      <td>233.75</td>\n",
              "      <td>3069914</td>\n",
              "      <td>7162.35</td>\n",
              "    </tr>\n",
              "    <tr>\n",
              "      <th>1</th>\n",
              "      <td>2018-09-27</td>\n",
              "      <td>234.55</td>\n",
              "      <td>236.80</td>\n",
              "      <td>231.10</td>\n",
              "      <td>233.80</td>\n",
              "      <td>233.25</td>\n",
              "      <td>5082859</td>\n",
              "      <td>11859.95</td>\n",
              "    </tr>\n",
              "    <tr>\n",
              "      <th>2</th>\n",
              "      <td>2018-09-26</td>\n",
              "      <td>240.00</td>\n",
              "      <td>240.00</td>\n",
              "      <td>232.50</td>\n",
              "      <td>235.00</td>\n",
              "      <td>234.25</td>\n",
              "      <td>2240909</td>\n",
              "      <td>5248.60</td>\n",
              "    </tr>\n",
              "    <tr>\n",
              "      <th>3</th>\n",
              "      <td>2018-09-25</td>\n",
              "      <td>233.30</td>\n",
              "      <td>236.75</td>\n",
              "      <td>232.00</td>\n",
              "      <td>236.25</td>\n",
              "      <td>236.10</td>\n",
              "      <td>2349368</td>\n",
              "      <td>5503.90</td>\n",
              "    </tr>\n",
              "    <tr>\n",
              "      <th>4</th>\n",
              "      <td>2018-09-24</td>\n",
              "      <td>233.55</td>\n",
              "      <td>239.20</td>\n",
              "      <td>230.75</td>\n",
              "      <td>234.00</td>\n",
              "      <td>233.30</td>\n",
              "      <td>3423509</td>\n",
              "      <td>7999.55</td>\n",
              "    </tr>\n",
              "  </tbody>\n",
              "</table>\n",
              "</div>"
            ],
            "text/plain": [
              "         Date    Open    High  ...   Close  Total Trade Quantity  Turnover (Lacs)\n",
              "0  2018-09-28  234.05  235.95  ...  233.75               3069914          7162.35\n",
              "1  2018-09-27  234.55  236.80  ...  233.25               5082859         11859.95\n",
              "2  2018-09-26  240.00  240.00  ...  234.25               2240909          5248.60\n",
              "3  2018-09-25  233.30  236.75  ...  236.10               2349368          5503.90\n",
              "4  2018-09-24  233.55  239.20  ...  233.30               3423509          7999.55\n",
              "\n",
              "[5 rows x 8 columns]"
            ]
          },
          "metadata": {},
          "execution_count": 9
        }
      ]
    },
    {
      "cell_type": "code",
      "metadata": {
        "colab": {
          "base_uri": "https://localhost:8080/"
        },
        "id": "XyfBlQSWfL63",
        "outputId": "c559148c-1350-4796-f1bd-de7a19ca73ec"
      },
      "source": [
        "print(stock_data.isnull().sum())"
      ],
      "execution_count": null,
      "outputs": [
        {
          "output_type": "stream",
          "name": "stdout",
          "text": [
            "Date                    0\n",
            "Open                    0\n",
            "High                    0\n",
            "Low                     0\n",
            "Last                    0\n",
            "Close                   0\n",
            "Total Trade Quantity    0\n",
            "Turnover (Lacs)         0\n",
            "dtype: int64\n"
          ]
        }
      ]
    },
    {
      "cell_type": "code",
      "metadata": {
        "colab": {
          "base_uri": "https://localhost:8080/",
          "height": 297
        },
        "id": "4qPx4V1SfQfo",
        "outputId": "81366335-39c9-4f26-c657-b95f8e8abbaa"
      },
      "source": [
        "stock_data.describe()"
      ],
      "execution_count": null,
      "outputs": [
        {
          "output_type": "execute_result",
          "data": {
            "text/html": [
              "<div>\n",
              "<style scoped>\n",
              "    .dataframe tbody tr th:only-of-type {\n",
              "        vertical-align: middle;\n",
              "    }\n",
              "\n",
              "    .dataframe tbody tr th {\n",
              "        vertical-align: top;\n",
              "    }\n",
              "\n",
              "    .dataframe thead th {\n",
              "        text-align: right;\n",
              "    }\n",
              "</style>\n",
              "<table border=\"1\" class=\"dataframe\">\n",
              "  <thead>\n",
              "    <tr style=\"text-align: right;\">\n",
              "      <th></th>\n",
              "      <th>Open</th>\n",
              "      <th>High</th>\n",
              "      <th>Low</th>\n",
              "      <th>Last</th>\n",
              "      <th>Close</th>\n",
              "      <th>Total Trade Quantity</th>\n",
              "      <th>Turnover (Lacs)</th>\n",
              "    </tr>\n",
              "  </thead>\n",
              "  <tbody>\n",
              "    <tr>\n",
              "      <th>count</th>\n",
              "      <td>2035.000000</td>\n",
              "      <td>2035.000000</td>\n",
              "      <td>2035.000000</td>\n",
              "      <td>2035.000000</td>\n",
              "      <td>2035.00000</td>\n",
              "      <td>2.035000e+03</td>\n",
              "      <td>2035.000000</td>\n",
              "    </tr>\n",
              "    <tr>\n",
              "      <th>mean</th>\n",
              "      <td>149.713735</td>\n",
              "      <td>151.992826</td>\n",
              "      <td>147.293931</td>\n",
              "      <td>149.474251</td>\n",
              "      <td>149.45027</td>\n",
              "      <td>2.335681e+06</td>\n",
              "      <td>3899.980565</td>\n",
              "    </tr>\n",
              "    <tr>\n",
              "      <th>std</th>\n",
              "      <td>48.664509</td>\n",
              "      <td>49.413109</td>\n",
              "      <td>47.931958</td>\n",
              "      <td>48.732570</td>\n",
              "      <td>48.71204</td>\n",
              "      <td>2.091778e+06</td>\n",
              "      <td>4570.767877</td>\n",
              "    </tr>\n",
              "    <tr>\n",
              "      <th>min</th>\n",
              "      <td>81.100000</td>\n",
              "      <td>82.800000</td>\n",
              "      <td>80.000000</td>\n",
              "      <td>81.000000</td>\n",
              "      <td>80.95000</td>\n",
              "      <td>3.961000e+04</td>\n",
              "      <td>37.040000</td>\n",
              "    </tr>\n",
              "    <tr>\n",
              "      <th>25%</th>\n",
              "      <td>120.025000</td>\n",
              "      <td>122.100000</td>\n",
              "      <td>118.300000</td>\n",
              "      <td>120.075000</td>\n",
              "      <td>120.05000</td>\n",
              "      <td>1.146444e+06</td>\n",
              "      <td>1427.460000</td>\n",
              "    </tr>\n",
              "    <tr>\n",
              "      <th>50%</th>\n",
              "      <td>141.500000</td>\n",
              "      <td>143.400000</td>\n",
              "      <td>139.600000</td>\n",
              "      <td>141.100000</td>\n",
              "      <td>141.25000</td>\n",
              "      <td>1.783456e+06</td>\n",
              "      <td>2512.030000</td>\n",
              "    </tr>\n",
              "    <tr>\n",
              "      <th>75%</th>\n",
              "      <td>157.175000</td>\n",
              "      <td>159.400000</td>\n",
              "      <td>155.150000</td>\n",
              "      <td>156.925000</td>\n",
              "      <td>156.90000</td>\n",
              "      <td>2.813594e+06</td>\n",
              "      <td>4539.015000</td>\n",
              "    </tr>\n",
              "    <tr>\n",
              "      <th>max</th>\n",
              "      <td>327.700000</td>\n",
              "      <td>328.750000</td>\n",
              "      <td>321.650000</td>\n",
              "      <td>325.950000</td>\n",
              "      <td>325.75000</td>\n",
              "      <td>2.919102e+07</td>\n",
              "      <td>55755.080000</td>\n",
              "    </tr>\n",
              "  </tbody>\n",
              "</table>\n",
              "</div>"
            ],
            "text/plain": [
              "              Open         High  ...  Total Trade Quantity  Turnover (Lacs)\n",
              "count  2035.000000  2035.000000  ...          2.035000e+03      2035.000000\n",
              "mean    149.713735   151.992826  ...          2.335681e+06      3899.980565\n",
              "std      48.664509    49.413109  ...          2.091778e+06      4570.767877\n",
              "min      81.100000    82.800000  ...          3.961000e+04        37.040000\n",
              "25%     120.025000   122.100000  ...          1.146444e+06      1427.460000\n",
              "50%     141.500000   143.400000  ...          1.783456e+06      2512.030000\n",
              "75%     157.175000   159.400000  ...          2.813594e+06      4539.015000\n",
              "max     327.700000   328.750000  ...          2.919102e+07     55755.080000\n",
              "\n",
              "[8 rows x 7 columns]"
            ]
          },
          "metadata": {},
          "execution_count": 11
        }
      ]
    },
    {
      "cell_type": "code",
      "metadata": {
        "id": "G6XKGlLnfTFP"
      },
      "source": [
        "stock_data1 = stock_data.reset_index()['Close']"
      ],
      "execution_count": null,
      "outputs": []
    },
    {
      "cell_type": "code",
      "metadata": {
        "colab": {
          "base_uri": "https://localhost:8080/"
        },
        "id": "pPVBfnb1fXnU",
        "outputId": "da0ec2b2-95a1-4462-f8fb-da6dacb1cea0"
      },
      "source": [
        "stock_data1.shape"
      ],
      "execution_count": null,
      "outputs": [
        {
          "output_type": "execute_result",
          "data": {
            "text/plain": [
              "(2035,)"
            ]
          },
          "metadata": {},
          "execution_count": 13
        }
      ]
    },
    {
      "cell_type": "code",
      "metadata": {
        "colab": {
          "base_uri": "https://localhost:8080/"
        },
        "id": "u0OpMz6SfZlp",
        "outputId": "871c4f64-285d-42a7-da3a-218c96fecba6"
      },
      "source": [
        "stock_data1"
      ],
      "execution_count": null,
      "outputs": [
        {
          "output_type": "execute_result",
          "data": {
            "text/plain": [
              "0       233.75\n",
              "1       233.25\n",
              "2       234.25\n",
              "3       236.10\n",
              "4       233.30\n",
              "         ...  \n",
              "2030    118.65\n",
              "2031    117.60\n",
              "2032    120.65\n",
              "2033    120.90\n",
              "2034    121.55\n",
              "Name: Close, Length: 2035, dtype: float64"
            ]
          },
          "metadata": {},
          "execution_count": 14
        }
      ]
    },
    {
      "cell_type": "code",
      "metadata": {
        "colab": {
          "base_uri": "https://localhost:8080/",
          "height": 609
        },
        "id": "aM8G58N8fdW6",
        "outputId": "819dc1ce-e950-40b4-9b8c-c72e09a7174e"
      },
      "source": [
        "import matplotlib.pyplot as plt\n",
        "plt.plot(stock_data1)"
      ],
      "execution_count": null,
      "outputs": [
        {
          "output_type": "execute_result",
          "data": {
            "text/plain": [
              "[<matplotlib.lines.Line2D at 0x7f66484c9810>]"
            ]
          },
          "metadata": {},
          "execution_count": 15
        },
        {
          "output_type": "display_data",
          "data": {
            "image/png": "[encoded data removed]",
            "text/plain": [
              "<Figure size 1440x720 with 1 Axes>"
            ]
          },
          "metadata": {
            "needs_background": "light"
          }
        }
      ]
    },
    {
      "cell_type": "code",
      "metadata": {
        "id": "g2zvhlk2fhNl"
      },
      "source": [
        "stock_data1 = scaler.fit_transform(np.array(stock_data1).reshape(-1,1))"
      ],
      "execution_count": null,
      "outputs": []
    },
    {
      "cell_type": "code",
      "metadata": {
        "colab": {
          "base_uri": "https://localhost:8080/"
        },
        "id": "F8xCqcwRf1s1",
        "outputId": "e46b6bca-3ad7-497b-a2a1-10d21d96b33a"
      },
      "source": [
        "stock_data1 #array has been transformed into values ranging from 0 to 1"
      ],
      "execution_count": null,
      "outputs": [
        {
          "output_type": "execute_result",
          "data": {
            "text/plain": [
              "array([[0.62418301],\n",
              "       [0.62214052],\n",
              "       [0.62622549],\n",
              "       ...,\n",
              "       [0.1621732 ],\n",
              "       [0.16319444],\n",
              "       [0.16584967]])"
            ]
          },
          "metadata": {},
          "execution_count": 17
        }
      ]
    },
    {
      "cell_type": "code",
      "metadata": {
        "id": "WiYpIrOJf5IN"
      },
      "source": [
        "#splitting data into train and test datasets\n",
        "train_size = int(len(stock_data1)*0.65)\n",
        "test_size = len(stock_data1) - train_size\n",
        "train_data, test_data = stock_data1[0:train_size,:],stock_data1[train_size:len(stock_data1),:1]"
      ],
      "execution_count": null,
      "outputs": []
    },
    {
      "cell_type": "code",
      "metadata": {
        "id": "y21DAgZqf-Hd"
      },
      "source": [
        "Preprocess the data\n",
        "def create_dataset(dataset, time_step=1):\n",
        "  x, y = [],[]\n",
        "  for i in range(len(dataset)-time_step-1):\n",
        "    a=dataset[i:(i+time_step),0]\n",
        "    x.append(a)\n",
        "    y.append(dataset[i+time_step,0])\n",
        "  return np.array(x),np.array(y)"
      ],
      "execution_count": null,
      "outputs": []
    },
    {
      "cell_type": "code",
      "metadata": {
        "id": "OLXWhmDcgE0k"
      },
      "source": [
        "time_step = 100\n",
        "x_train, y_train = create_dataset(train_data, time_step)\n",
        "x_test, y_test = create_dataset(test_data, time_step)"
      ],
      "execution_count": null,
      "outputs": []
    },
    {
      "cell_type": "code",
      "metadata": {
        "id": "k7p_QZZTgID6"
      },
      "source": [
        "#reshaping input for LSTM\n",
        "x_train = x_train.reshape(x_train.shape[0], x_train.shape[1], 1)\n",
        "x_test = x_test.reshape(x_test.shape[0], x_test.shape[1], 1)"
      ],
      "execution_count": null,
      "outputs": []
    },
    {
      "cell_type": "code",
      "metadata": {
        "id": "h5OSM1HzgL6h"
      },
      "source": [
        "create the stacked LSTM model\n",
        "from tensorflow.keras.models import Sequential\n",
        "from tensorflow.keras.layers import Dense\n",
        "from tensorflow.keras.layers import LSTM"
      ],
      "execution_count": null,
      "outputs": []
    },
    {
      "cell_type": "code",
      "metadata": {
        "id": "VVqa6Vg7gOcX"
      },
      "source": [
        "model = Sequential()\n",
        "#adding layers\n",
        "model.add(LSTM(50,return_sequences=True,input_shape=(100,1)))\n",
        "model.add(LSTM(50,return_sequences=True))\n",
        "model.add(LSTM(50))\n",
        "model.add(Dense(1))\n",
        "model.compile(loss='mean_squared_error',optimizer='adam')"
      ],
      "execution_count": null,
      "outputs": []
    },
    {
      "cell_type": "code",
      "metadata": {
        "colab": {
          "base_uri": "https://localhost:8080/"
        },
        "id": "0n1FWmgmgRqj",
        "outputId": "1809a053-1787-4916-aa7b-026f89e20b4a"
      },
      "source": [
        "model.summary()"
      ],
      "execution_count": null,
      "outputs": [
        {
          "output_type": "stream",
          "name": "stdout",
          "text": [
            "Model: \"sequential\"\n",
            "_________________________________________________________________\n",
            "Layer (type)                 Output Shape              Param #   \n",
            "=================================================================\n",
            "lstm (LSTM)                  (None, 100, 50)           10400     \n",
            "_________________________________________________________________\n",
            "lstm_1 (LSTM)                (None, 100, 50)           20200     \n",
            "_________________________________________________________________\n",
            "lstm_2 (LSTM)                (None, 50)                20200     \n",
            "_________________________________________________________________\n",
            "dense (Dense)                (None, 1)                 51        \n",
            "=================================================================\n",
            "Total params: 50,851\n",
            "Trainable params: 50,851\n",
            "Non-trainable params: 0\n",
            "_________________________________________________________________\n"
          ]
        }
      ]
    },
    {
      "cell_type": "code",
      "metadata": {
        "colab": {
          "base_uri": "https://localhost:8080/"
        },
        "id": "FJqw11cQgWff",
        "outputId": "0282946e-e3e6-43a7-ca3e-e3f83e2ce042"
      },
      "source": [
        "#fit the model\n",
        "model.fit(x_train,y_train,validation_data=(x_test,y_test),epochs=100,batch_size=64,verbose=1)"
      ],
      "execution_count": null,
      "outputs": [
        {
          "output_type": "stream",
          "name": "stdout",
          "text": [
            "Epoch 1/100\n",
            "20/20 [==============================] - 10s 267ms/step - loss: 0.0352 - val_loss: 0.0051\n",
            "Epoch 2/100\n",
            "20/20 [==============================] - 4s 198ms/step - loss: 0.0042 - val_loss: 0.0021\n",
            "Epoch 3/100\n",
            "20/20 [==============================] - 4s 194ms/step - loss: 0.0021 - val_loss: 0.0013\n",
            "Epoch 4/100\n",
            "20/20 [==============================] - 4s 199ms/step - loss: 0.0016 - val_loss: 0.0011\n",
            "Epoch 5/100\n",
            "20/20 [==============================] - 4s 202ms/step - loss: 0.0015 - val_loss: 0.0011\n",
            "Epoch 6/100\n",
            "20/20 [==============================] - 4s 197ms/step - loss: 0.0014 - val_loss: 0.0010\n",
            "Epoch 7/100\n",
            "20/20 [==============================] - 4s 198ms/step - loss: 0.0014 - val_loss: 0.0011\n",
            "Epoch 8/100\n",
            "20/20 [==============================] - 4s 205ms/step - loss: 0.0013 - val_loss: 0.0011\n",
            "Epoch 9/100\n",
            "20/20 [==============================] - 4s 204ms/step - loss: 0.0012 - val_loss: 8.0410e-04\n",
            "Epoch 10/100\n",
            "20/20 [==============================] - 4s 198ms/step - loss: 0.0011 - val_loss: 7.5230e-04\n",
            "Epoch 11/100\n",
            "20/20 [==============================] - 4s 201ms/step - loss: 0.0012 - val_loss: 0.0010\n",
            "Epoch 12/100\n",
            "20/20 [==============================] - 4s 196ms/step - loss: 0.0014 - val_loss: 0.0010\n",
            "Epoch 13/100\n",
            "20/20 [==============================] - 4s 201ms/step - loss: 9.8644e-04 - val_loss: 8.2209e-04\n",
            "Epoch 14/100\n",
            "20/20 [==============================] - 4s 201ms/step - loss: 9.6318e-04 - val_loss: 7.0955e-04\n",
            "Epoch 15/100\n",
            "20/20 [==============================] - 4s 200ms/step - loss: 0.0012 - val_loss: 7.0164e-04\n",
            "Epoch 16/100\n",
            "20/20 [==============================] - 4s 206ms/step - loss: 0.0010 - val_loss: 6.7629e-04\n",
            "Epoch 17/100\n",
            "20/20 [==============================] - 4s 200ms/step - loss: 8.7244e-04 - val_loss: 7.4192e-04\n",
            "Epoch 18/100\n",
            "20/20 [==============================] - 4s 204ms/step - loss: 8.4896e-04 - val_loss: 6.7147e-04\n",
            "Epoch 19/100\n",
            "20/20 [==============================] - 4s 201ms/step - loss: 7.8570e-04 - val_loss: 9.3988e-04\n",
            "Epoch 20/100\n",
            "20/20 [==============================] - 4s 196ms/step - loss: 8.5733e-04 - val_loss: 6.6972e-04\n",
            "Epoch 21/100\n",
            "20/20 [==============================] - 4s 200ms/step - loss: 7.8659e-04 - val_loss: 6.6945e-04\n",
            "Epoch 22/100\n",
            "20/20 [==============================] - 4s 195ms/step - loss: 7.6770e-04 - val_loss: 8.0194e-04\n",
            "Epoch 23/100\n",
            "20/20 [==============================] - 4s 196ms/step - loss: 7.9160e-04 - val_loss: 7.3869e-04\n",
            "Epoch 24/100\n",
            "20/20 [==============================] - 4s 200ms/step - loss: 7.6073e-04 - val_loss: 5.5381e-04\n",
            "Epoch 25/100\n",
            "20/20 [==============================] - 4s 197ms/step - loss: 8.0704e-04 - val_loss: 9.0681e-04\n",
            "Epoch 26/100\n",
            "20/20 [==============================] - 4s 203ms/step - loss: 6.6830e-04 - val_loss: 0.0011\n",
            "Epoch 27/100\n",
            "20/20 [==============================] - 4s 198ms/step - loss: 9.2253e-04 - val_loss: 8.1595e-04\n",
            "Epoch 28/100\n",
            "20/20 [==============================] - 4s 213ms/step - loss: 6.6150e-04 - val_loss: 6.8322e-04\n",
            "Epoch 29/100\n",
            "20/20 [==============================] - 4s 195ms/step - loss: 6.2424e-04 - val_loss: 7.2294e-04\n",
            "Epoch 30/100\n",
            "20/20 [==============================] - 4s 194ms/step - loss: 6.5617e-04 - val_loss: 6.3935e-04\n",
            "Epoch 31/100\n",
            "20/20 [==============================] - 4s 195ms/step - loss: 6.1281e-04 - val_loss: 5.5843e-04\n",
            "Epoch 32/100\n",
            "20/20 [==============================] - 4s 198ms/step - loss: 6.1501e-04 - val_loss: 6.2280e-04\n",
            "Epoch 33/100\n",
            "20/20 [==============================] - 4s 204ms/step - loss: 5.9704e-04 - val_loss: 5.9631e-04\n",
            "Epoch 34/100\n",
            "20/20 [==============================] - 4s 198ms/step - loss: 6.6083e-04 - val_loss: 6.1763e-04\n",
            "Epoch 35/100\n",
            "20/20 [==============================] - 4s 194ms/step - loss: 5.7931e-04 - val_loss: 7.4063e-04\n",
            "Epoch 36/100\n",
            "20/20 [==============================] - 4s 195ms/step - loss: 5.6311e-04 - val_loss: 6.3225e-04\n",
            "Epoch 37/100\n",
            "20/20 [==============================] - 4s 195ms/step - loss: 5.4635e-04 - val_loss: 6.5715e-04\n",
            "Epoch 38/100\n",
            "20/20 [==============================] - 4s 198ms/step - loss: 5.6065e-04 - val_loss: 5.4690e-04\n",
            "Epoch 39/100\n",
            "20/20 [==============================] - 4s 195ms/step - loss: 5.3219e-04 - val_loss: 5.5394e-04\n",
            "Epoch 40/100\n",
            "20/20 [==============================] - 4s 196ms/step - loss: 5.2765e-04 - val_loss: 6.0020e-04\n",
            "Epoch 41/100\n",
            "20/20 [==============================] - 4s 197ms/step - loss: 5.2684e-04 - val_loss: 7.1068e-04\n",
            "Epoch 42/100\n",
            "20/20 [==============================] - 4s 198ms/step - loss: 5.0130e-04 - val_loss: 5.1334e-04\n",
            "Epoch 43/100\n",
            "20/20 [==============================] - 4s 198ms/step - loss: 5.2650e-04 - val_loss: 0.0013\n",
            "Epoch 44/100\n",
            "20/20 [==============================] - 4s 195ms/step - loss: 9.6244e-04 - val_loss: 6.7128e-04\n",
            "Epoch 45/100\n",
            "20/20 [==============================] - 4s 198ms/step - loss: 5.7463e-04 - val_loss: 5.7470e-04\n",
            "Epoch 46/100\n",
            "20/20 [==============================] - 4s 195ms/step - loss: 5.4507e-04 - val_loss: 5.9422e-04\n",
            "Epoch 47/100\n",
            "20/20 [==============================] - 4s 196ms/step - loss: 5.2118e-04 - val_loss: 5.0062e-04\n",
            "Epoch 48/100\n",
            "20/20 [==============================] - 4s 197ms/step - loss: 5.0549e-04 - val_loss: 4.2845e-04\n",
            "Epoch 49/100\n",
            "20/20 [==============================] - 4s 195ms/step - loss: 4.8217e-04 - val_loss: 6.6792e-04\n",
            "Epoch 50/100\n",
            "20/20 [==============================] - 4s 200ms/step - loss: 4.7366e-04 - val_loss: 4.7157e-04\n",
            "Epoch 51/100\n",
            "20/20 [==============================] - 4s 196ms/step - loss: 4.6774e-04 - val_loss: 6.3855e-04\n",
            "Epoch 52/100\n",
            "20/20 [==============================] - 4s 195ms/step - loss: 5.0459e-04 - val_loss: 4.3329e-04\n",
            "Epoch 53/100\n",
            "20/20 [==============================] - 4s 197ms/step - loss: 6.7096e-04 - val_loss: 4.7693e-04\n",
            "Epoch 54/100\n",
            "20/20 [==============================] - 4s 196ms/step - loss: 4.7009e-04 - val_loss: 4.8631e-04\n",
            "Epoch 55/100\n",
            "20/20 [==============================] - 4s 194ms/step - loss: 4.4566e-04 - val_loss: 4.7941e-04\n",
            "Epoch 56/100\n",
            "20/20 [==============================] - 4s 196ms/step - loss: 4.2734e-04 - val_loss: 4.2279e-04\n",
            "Epoch 57/100\n",
            "20/20 [==============================] - 4s 198ms/step - loss: 4.0296e-04 - val_loss: 4.5432e-04\n",
            "Epoch 58/100\n",
            "20/20 [==============================] - 4s 200ms/step - loss: 4.5688e-04 - val_loss: 3.6468e-04\n",
            "Epoch 59/100\n",
            "20/20 [==============================] - 4s 196ms/step - loss: 4.1757e-04 - val_loss: 4.4224e-04\n",
            "Epoch 60/100\n",
            "20/20 [==============================] - 4s 195ms/step - loss: 3.9017e-04 - val_loss: 3.6491e-04\n",
            "Epoch 61/100\n",
            "20/20 [==============================] - 4s 196ms/step - loss: 4.0852e-04 - val_loss: 4.7120e-04\n",
            "Epoch 62/100\n",
            "20/20 [==============================] - 4s 194ms/step - loss: 4.7757e-04 - val_loss: 4.3052e-04\n",
            "Epoch 63/100\n",
            "20/20 [==============================] - 4s 195ms/step - loss: 6.7401e-04 - val_loss: 5.9135e-04\n",
            "Epoch 64/100\n",
            "20/20 [==============================] - 4s 196ms/step - loss: 4.4053e-04 - val_loss: 5.3880e-04\n",
            "Epoch 65/100\n",
            "20/20 [==============================] - 4s 199ms/step - loss: 3.8791e-04 - val_loss: 3.4006e-04\n",
            "Epoch 66/100\n",
            "20/20 [==============================] - 4s 200ms/step - loss: 3.7668e-04 - val_loss: 3.7829e-04\n",
            "Epoch 67/100\n",
            "20/20 [==============================] - 4s 198ms/step - loss: 3.5486e-04 - val_loss: 3.2838e-04\n",
            "Epoch 68/100\n",
            "20/20 [==============================] - 4s 193ms/step - loss: 3.5020e-04 - val_loss: 5.3392e-04\n",
            "Epoch 69/100\n",
            "20/20 [==============================] - 4s 198ms/step - loss: 3.6334e-04 - val_loss: 3.2080e-04\n",
            "Epoch 70/100\n",
            "20/20 [==============================] - 4s 195ms/step - loss: 6.5279e-04 - val_loss: 4.1437e-04\n",
            "Epoch 71/100\n",
            "20/20 [==============================] - 4s 194ms/step - loss: 5.0611e-04 - val_loss: 3.3572e-04\n",
            "Epoch 72/100\n",
            "20/20 [==============================] - 4s 198ms/step - loss: 3.3959e-04 - val_loss: 3.1850e-04\n",
            "Epoch 73/100\n",
            "20/20 [==============================] - 4s 195ms/step - loss: 3.6426e-04 - val_loss: 3.3456e-04\n",
            "Epoch 74/100\n",
            "20/20 [==============================] - 4s 199ms/step - loss: 3.4231e-04 - val_loss: 3.6456e-04\n",
            "Epoch 75/100\n",
            "20/20 [==============================] - 4s 204ms/step - loss: 3.0491e-04 - val_loss: 2.8219e-04\n",
            "Epoch 76/100\n",
            "20/20 [==============================] - 4s 199ms/step - loss: 3.1966e-04 - val_loss: 2.7090e-04\n",
            "Epoch 77/100\n",
            "20/20 [==============================] - 4s 197ms/step - loss: 3.1442e-04 - val_loss: 2.7101e-04\n",
            "Epoch 78/100\n",
            "20/20 [==============================] - 4s 197ms/step - loss: 4.8853e-04 - val_loss: 3.2818e-04\n",
            "Epoch 79/100\n",
            "20/20 [==============================] - 4s 196ms/step - loss: 3.2882e-04 - val_loss: 2.7745e-04\n",
            "Epoch 80/100\n",
            "20/20 [==============================] - 4s 199ms/step - loss: 3.0216e-04 - val_loss: 4.3456e-04\n",
            "Epoch 81/100\n",
            "20/20 [==============================] - 4s 198ms/step - loss: 3.7763e-04 - val_loss: 3.8041e-04\n",
            "Epoch 82/100\n",
            "20/20 [==============================] - 4s 196ms/step - loss: 3.0824e-04 - val_loss: 3.9518e-04\n",
            "Epoch 83/100\n",
            "20/20 [==============================] - 4s 198ms/step - loss: 3.2727e-04 - val_loss: 2.4028e-04\n",
            "Epoch 84/100\n",
            "20/20 [==============================] - 4s 195ms/step - loss: 2.9095e-04 - val_loss: 2.7646e-04\n",
            "Epoch 85/100\n",
            "20/20 [==============================] - 4s 196ms/step - loss: 2.6200e-04 - val_loss: 2.9292e-04\n",
            "Epoch 86/100\n",
            "20/20 [==============================] - 4s 196ms/step - loss: 2.6367e-04 - val_loss: 3.5566e-04\n",
            "Epoch 87/100\n",
            "20/20 [==============================] - 4s 196ms/step - loss: 4.1059e-04 - val_loss: 2.4867e-04\n",
            "Epoch 88/100\n",
            "20/20 [==============================] - 4s 201ms/step - loss: 2.8074e-04 - val_loss: 2.8555e-04\n",
            "Epoch 89/100\n",
            "20/20 [==============================] - 4s 200ms/step - loss: 2.6801e-04 - val_loss: 2.2980e-04\n",
            "Epoch 90/100\n",
            "20/20 [==============================] - 4s 200ms/step - loss: 2.6331e-04 - val_loss: 3.2035e-04\n",
            "Epoch 91/100\n",
            "20/20 [==============================] - 4s 202ms/step - loss: 2.6619e-04 - val_loss: 2.3275e-04\n",
            "Epoch 92/100\n",
            "20/20 [==============================] - 4s 196ms/step - loss: 2.4724e-04 - val_loss: 3.6444e-04\n",
            "Epoch 93/100\n",
            "20/20 [==============================] - 4s 199ms/step - loss: 3.2110e-04 - val_loss: 2.3365e-04\n",
            "Epoch 94/100\n",
            "20/20 [==============================] - 4s 201ms/step - loss: 2.6136e-04 - val_loss: 2.1923e-04\n",
            "Epoch 95/100\n",
            "20/20 [==============================] - 4s 194ms/step - loss: 2.7090e-04 - val_loss: 3.1430e-04\n",
            "Epoch 96/100\n",
            "20/20 [==============================] - 4s 196ms/step - loss: 2.5362e-04 - val_loss: 2.1460e-04\n",
            "Epoch 97/100\n",
            "20/20 [==============================] - 4s 196ms/step - loss: 3.3091e-04 - val_loss: 2.4971e-04\n",
            "Epoch 98/100\n",
            "20/20 [==============================] - 4s 196ms/step - loss: 2.4585e-04 - val_loss: 2.1205e-04\n",
            "Epoch 99/100\n",
            "20/20 [==============================] - 4s 198ms/step - loss: 2.6228e-04 - val_loss: 2.9693e-04\n",
            "Epoch 100/100\n",
            "20/20 [==============================] - 4s 197ms/step - loss: 2.5219e-04 - val_loss: 3.0619e-04\n"
          ]
        },
        {
          "output_type": "execute_result",
          "data": {
            "text/plain": [
              "<keras.callbacks.History at 0x7f65fb50a290>"
            ]
          },
          "metadata": {},
          "execution_count": 25
        }
      ]
    },
    {
      "cell_type": "code",
      "metadata": {
        "id": "14mWaRduga-J"
      },
      "source": [
        "import tensorflow as tf #importing the tensorflow library to predict\n",
        "train_prediction = model.predict(x_train)\n",
        "test_prediction = model.predict(x_test)"
      ],
      "execution_count": null,
      "outputs": []
    },
    {
      "cell_type": "code",
      "metadata": {
        "id": "7Hmav1P1gitE"
      },
      "source": [
        "train_prediction = scaler.inverse_transform(train_prediction)\n",
        "test_prediction = scaler.inverse_transform(test_prediction)"
      ],
      "execution_count": null,
      "outputs": []
    },
    {
      "cell_type": "code",
      "metadata": {
        "id": "_WQpwM72kVDr"
      },
      "source": [
        ""
      ],
      "execution_count": null,
      "outputs": []
    },
    {
      "cell_type": "code",
      "metadata": {
        "colab": {
          "base_uri": "https://localhost:8080/"
        },
        "id": "FRLuoGXhiRQ8",
        "outputId": "124ab865-1fd6-4e61-8635-419944d63333"
      },
      "source": [
        "calculate RSME (Root Mean Square Error)\n",
        "import math\n",
        "from sklearn.metrics import mean_squared_error\n",
        "math.sqrt(mean_squared_error(y_train,train_prediction)) #for training data\n"
      ],
      "execution_count": null,
      "outputs": [
        {
          "output_type": "execute_result",
          "data": {
            "text/plain": [
              "168.22732013400815"
            ]
          },
          "metadata": {},
          "execution_count": 28
        }
      ]
    },
    {
      "cell_type": "code",
      "metadata": {
        "colab": {
          "base_uri": "https://localhost:8080/"
        },
        "id": "wUKXq-z-iVN7",
        "outputId": "2692850f-25e5-4449-985c-bbf136b1322f"
      },
      "source": [
        "math.sqrt(mean_squared_error(y_test,test_prediction)) #for testing data"
      ],
      "execution_count": null,
      "outputs": [
        {
          "output_type": "execute_result",
          "data": {
            "text/plain": [
              "117.3557083781083"
            ]
          },
          "metadata": {},
          "execution_count": 29
        }
      ]
    },
    {
      "cell_type": "code",
      "metadata": {
        "id": "gyjMmHUGiaZT"
      },
      "source": [
        "look_back=100\n",
        "trainPredictionPlot = np.empty_like(stock_data1) #shifting training predictions\n",
        "trainPredictionPlot[:, :] = np.nan\n",
        "trainPredictionPlot[look_back:len(train_prediction)+look_back, :] = train_prediction\n",
        "testPredictionPlot = np.empty_like(stock_data1) #shifting test predictions\n",
        "testPredictionPlot[:, :] = np.nan\n",
        "testPredictionPlot[len(train_prediction)+(look_back*2)+1:len(stock_data1)-1, :] = test_prediction"
      ],
      "execution_count": null,
      "outputs": []
    },
    {
      "cell_type": "code",
      "metadata": {
        "colab": {
          "base_uri": "https://localhost:8080/",
          "height": 592
        },
        "id": "_HYSkqWfigRY",
        "outputId": "554811b3-0962-4bb9-daba-35f793eaf7a9"
      },
      "source": [
        "plt.plot(scaler.inverse_transform(stock_data1))\n",
        "plt.plot(trainPredictionPlot)\n",
        "plt.plot(testPredictionPlot)\n",
        "plt.show()"
      ],
      "execution_count": null,
      "outputs": [
        {
          "output_type": "display_data",
          "data": {
            "image/png": "[encoded data removed]",
            "text/plain": [
              "<Figure size 1440x720 with 1 Axes>"
            ]
          },
          "metadata": {
            "needs_background": "light"
          }
        }
      ]
    },
    {
      "cell_type": "code",
      "metadata": {
        "colab": {
          "base_uri": "https://localhost:8080/"
        },
        "id": "alTnAxztikgN",
        "outputId": "74de8a7f-43e1-4185-d73a-8401211f39a5"
      },
      "source": [
        "len(test_data)"
      ],
      "execution_count": null,
      "outputs": [
        {
          "output_type": "execute_result",
          "data": {
            "text/plain": [
              "713"
            ]
          },
          "metadata": {},
          "execution_count": 32
        }
      ]
    },
    {
      "cell_type": "code",
      "metadata": {
        "colab": {
          "base_uri": "https://localhost:8080/"
        },
        "id": "oL0NIvOjiqoi",
        "outputId": "ef824f90-932c-4dab-a9cd-b73dd543a79e"
      },
      "source": [
        "x_input=test_data[613:].reshape(1,-1)\n",
        "x_input.shape"
      ],
      "execution_count": null,
      "outputs": [
        {
          "output_type": "execute_result",
          "data": {
            "text/plain": [
              "(1, 100)"
            ]
          },
          "metadata": {},
          "execution_count": 37
        }
      ]
    },
    {
      "cell_type": "code",
      "metadata": {
        "id": "iIYLkADyixGO"
      },
      "source": [
        "temp_input=list(x_input)\n",
        "temp_input=temp_input[0].tolist()"
      ],
      "execution_count": null,
      "outputs": []
    },
    {
      "cell_type": "code",
      "metadata": {
        "colab": {
          "base_uri": "https://localhost:8080/"
        },
        "id": "92euGdUGi0yj",
        "outputId": "9ee2ab1f-012f-4ace-c2b3-4a9b52a4f794"
      },
      "source": [
        "#Prediction for next 15 days\n",
        "from numpy import array\n",
        "\n",
        "final_output=[]\n",
        "n_steps=100\n",
        "i=1\n",
        "while(i<=15):\n",
        "    \n",
        "    if(len(temp_input)>100):\n",
        "        x_input=np.array(temp_input[1:])\n",
        "        print(\"{} day input {}\".format(i,x_input))\n",
        "        x_input=x_input.reshape(1,-1)\n",
        "        x_input = x_input.reshape((1, n_steps, 1))\n",
        "        ypred = model.predict(x_input, verbose=0)\n",
        "        print(\"{} day output {}\".format(i,ypred))\n",
        "        temp_input.extend(ypred[0].tolist())\n",
        "        temp_input=temp_input[1:]\n",
        "        final_output.extend(ypred.tolist())\n",
        "        i=i+1\n",
        "    else:\n",
        "        x_input = x_input.reshape((1, n_steps,1))\n",
        "        ypred = model.predict(x_input, verbose=0)\n",
        "        print(ypred[0])\n",
        "        temp_input.extend(ypred[0].tolist())\n",
        "        print(len(temp_input))\n",
        "        final_output.extend(ypred.tolist())\n",
        "        i=i+1\n",
        "    \n",
        "\n",
        "print(final_output)"
      ],
      "execution_count": null,
      "outputs": [
        {
          "output_type": "stream",
          "name": "stdout",
          "text": [
            "1 day input [0.15788399 0.16441993 0.17892157 0.17933007 0.19260621 0.20812908\n",
            " 0.18974673 0.18055556 0.18239379 0.17708333 0.17810458 0.18055556\n",
            " 0.17810458 0.17851307 0.19607843 0.18913399 0.18954248 0.19403595\n",
            " 0.19444444 0.20200163 0.19771242 0.19934641 0.19873366 0.1997549\n",
            " 0.2128268  0.21568627 0.20445261 0.21772876 0.21098856 0.21425654\n",
            " 0.19750817 0.18811275 0.17851307 0.17381536 0.16033497 0.16564542\n",
            " 0.17116013 0.17422386 0.18035131 0.17401961 0.16278595 0.16973039\n",
            " 0.17810458 0.17034314 0.16830065 0.17279412 0.17544935 0.18382353\n",
            " 0.19138072 0.18913399 0.19097222 0.17238562 0.16830065 0.1693219\n",
            " 0.17177288 0.16156046 0.14971405 0.1503268  0.15196078 0.14726307\n",
            " 0.14501634 0.14603758 0.12479575 0.13112745 0.11397059 0.1190768\n",
            " 0.12377451 0.13562092 0.12908497 0.13459967 0.12806373 0.13031046\n",
            " 0.12724673 0.13521242 0.14522059 0.15257353 0.14848856 0.14338235\n",
            " 0.14562908 0.15236928 0.15400327 0.14971405 0.1621732  0.16319444\n",
            " 0.16584967 0.17078257 0.17457455 0.1783099  0.18193799 0.18543847\n",
            " 0.18881194 0.19206814 0.19521932 0.19827749 0.20125321 0.20415565\n",
            " 0.2069924  0.20977011 0.21249446 0.21517071]\n",
            "1 day output [[0.21780354]]\n",
            "2 day input [0.16441993 0.17892157 0.17933007 0.19260621 0.20812908 0.18974673\n",
            " 0.18055556 0.18239379 0.17708333 0.17810458 0.18055556 0.17810458\n",
            " 0.17851307 0.19607843 0.18913399 0.18954248 0.19403595 0.19444444\n",
            " 0.20200163 0.19771242 0.19934641 0.19873366 0.1997549  0.2128268\n",
            " 0.21568627 0.20445261 0.21772876 0.21098856 0.21425654 0.19750817\n",
            " 0.18811275 0.17851307 0.17381536 0.16033497 0.16564542 0.17116013\n",
            " 0.17422386 0.18035131 0.17401961 0.16278595 0.16973039 0.17810458\n",
            " 0.17034314 0.16830065 0.17279412 0.17544935 0.18382353 0.19138072\n",
            " 0.18913399 0.19097222 0.17238562 0.16830065 0.1693219  0.17177288\n",
            " 0.16156046 0.14971405 0.1503268  0.15196078 0.14726307 0.14501634\n",
            " 0.14603758 0.12479575 0.13112745 0.11397059 0.1190768  0.12377451\n",
            " 0.13562092 0.12908497 0.13459967 0.12806373 0.13031046 0.12724673\n",
            " 0.13521242 0.14522059 0.15257353 0.14848856 0.14338235 0.14562908\n",
            " 0.15236928 0.15400327 0.14971405 0.1621732  0.16319444 0.16584967\n",
            " 0.17078257 0.17457455 0.1783099  0.18193799 0.18543847 0.18881194\n",
            " 0.19206814 0.19521932 0.19827749 0.20125321 0.20415565 0.2069924\n",
            " 0.20977011 0.21249446 0.21517071 0.21780354]\n",
            "2 day output [[0.2203977]]\n",
            "3 day input [0.17892157 0.17933007 0.19260621 0.20812908 0.18974673 0.18055556\n",
            " 0.18239379 0.17708333 0.17810458 0.18055556 0.17810458 0.17851307\n",
            " 0.19607843 0.18913399 0.18954248 0.19403595 0.19444444 0.20200163\n",
            " 0.19771242 0.19934641 0.19873366 0.1997549  0.2128268  0.21568627\n",
            " 0.20445261 0.21772876 0.21098856 0.21425654 0.19750817 0.18811275\n",
            " 0.17851307 0.17381536 0.16033497 0.16564542 0.17116013 0.17422386\n",
            " 0.18035131 0.17401961 0.16278595 0.16973039 0.17810458 0.17034314\n",
            " 0.16830065 0.17279412 0.17544935 0.18382353 0.19138072 0.18913399\n",
            " 0.19097222 0.17238562 0.16830065 0.1693219  0.17177288 0.16156046\n",
            " 0.14971405 0.1503268  0.15196078 0.14726307 0.14501634 0.14603758\n",
            " 0.12479575 0.13112745 0.11397059 0.1190768  0.12377451 0.13562092\n",
            " 0.12908497 0.13459967 0.12806373 0.13031046 0.12724673 0.13521242\n",
            " 0.14522059 0.15257353 0.14848856 0.14338235 0.14562908 0.15236928\n",
            " 0.15400327 0.14971405 0.1621732  0.16319444 0.16584967 0.17078257\n",
            " 0.17457455 0.1783099  0.18193799 0.18543847 0.18881194 0.19206814\n",
            " 0.19521932 0.19827749 0.20125321 0.20415565 0.2069924  0.20977011\n",
            " 0.21249446 0.21517071 0.21780354 0.2203977 ]\n",
            "3 day output [[0.22295748]]\n",
            "4 day input [0.17933007 0.19260621 0.20812908 0.18974673 0.18055556 0.18239379\n",
            " 0.17708333 0.17810458 0.18055556 0.17810458 0.17851307 0.19607843\n",
            " 0.18913399 0.18954248 0.19403595 0.19444444 0.20200163 0.19771242\n",
            " 0.19934641 0.19873366 0.1997549  0.2128268  0.21568627 0.20445261\n",
            " 0.21772876 0.21098856 0.21425654 0.19750817 0.18811275 0.17851307\n",
            " 0.17381536 0.16033497 0.16564542 0.17116013 0.17422386 0.18035131\n",
            " 0.17401961 0.16278595 0.16973039 0.17810458 0.17034314 0.16830065\n",
            " 0.17279412 0.17544935 0.18382353 0.19138072 0.18913399 0.19097222\n",
            " 0.17238562 0.16830065 0.1693219  0.17177288 0.16156046 0.14971405\n",
            " 0.1503268  0.15196078 0.14726307 0.14501634 0.14603758 0.12479575\n",
            " 0.13112745 0.11397059 0.1190768  0.12377451 0.13562092 0.12908497\n",
            " 0.13459967 0.12806373 0.13031046 0.12724673 0.13521242 0.14522059\n",
            " 0.15257353 0.14848856 0.14338235 0.14562908 0.15236928 0.15400327\n",
            " 0.14971405 0.1621732  0.16319444 0.16584967 0.17078257 0.17457455\n",
            " 0.1783099  0.18193799 0.18543847 0.18881194 0.19206814 0.19521932\n",
            " 0.19827749 0.20125321 0.20415565 0.2069924  0.20977011 0.21249446\n",
            " 0.21517071 0.21780354 0.2203977  0.22295748]\n",
            "4 day output [[0.2254873]]\n",
            "5 day input [0.19260621 0.20812908 0.18974673 0.18055556 0.18239379 0.17708333\n",
            " 0.17810458 0.18055556 0.17810458 0.17851307 0.19607843 0.18913399\n",
            " 0.18954248 0.19403595 0.19444444 0.20200163 0.19771242 0.19934641\n",
            " 0.19873366 0.1997549  0.2128268  0.21568627 0.20445261 0.21772876\n",
            " 0.21098856 0.21425654 0.19750817 0.18811275 0.17851307 0.17381536\n",
            " 0.16033497 0.16564542 0.17116013 0.17422386 0.18035131 0.17401961\n",
            " 0.16278595 0.16973039 0.17810458 0.17034314 0.16830065 0.17279412\n",
            " 0.17544935 0.18382353 0.19138072 0.18913399 0.19097222 0.17238562\n",
            " 0.16830065 0.1693219  0.17177288 0.16156046 0.14971405 0.1503268\n",
            " 0.15196078 0.14726307 0.14501634 0.14603758 0.12479575 0.13112745\n",
            " 0.11397059 0.1190768  0.12377451 0.13562092 0.12908497 0.13459967\n",
            " 0.12806373 0.13031046 0.12724673 0.13521242 0.14522059 0.15257353\n",
            " 0.14848856 0.14338235 0.14562908 0.15236928 0.15400327 0.14971405\n",
            " 0.1621732  0.16319444 0.16584967 0.17078257 0.17457455 0.1783099\n",
            " 0.18193799 0.18543847 0.18881194 0.19206814 0.19521932 0.19827749\n",
            " 0.20125321 0.20415565 0.2069924  0.20977011 0.21249446 0.21517071\n",
            " 0.21780354 0.2203977  0.22295748 0.22548731]\n",
            "5 day output [[0.22799125]]\n",
            "6 day input [0.20812908 0.18974673 0.18055556 0.18239379 0.17708333 0.17810458\n",
            " 0.18055556 0.17810458 0.17851307 0.19607843 0.18913399 0.18954248\n",
            " 0.19403595 0.19444444 0.20200163 0.19771242 0.19934641 0.19873366\n",
            " 0.1997549  0.2128268  0.21568627 0.20445261 0.21772876 0.21098856\n",
            " 0.21425654 0.19750817 0.18811275 0.17851307 0.17381536 0.16033497\n",
            " 0.16564542 0.17116013 0.17422386 0.18035131 0.17401961 0.16278595\n",
            " 0.16973039 0.17810458 0.17034314 0.16830065 0.17279412 0.17544935\n",
            " 0.18382353 0.19138072 0.18913399 0.19097222 0.17238562 0.16830065\n",
            " 0.1693219  0.17177288 0.16156046 0.14971405 0.1503268  0.15196078\n",
            " 0.14726307 0.14501634 0.14603758 0.12479575 0.13112745 0.11397059\n",
            " 0.1190768  0.12377451 0.13562092 0.12908497 0.13459967 0.12806373\n",
            " 0.13031046 0.12724673 0.13521242 0.14522059 0.15257353 0.14848856\n",
            " 0.14338235 0.14562908 0.15236928 0.15400327 0.14971405 0.1621732\n",
            " 0.16319444 0.16584967 0.17078257 0.17457455 0.1783099  0.18193799\n",
            " 0.18543847 0.18881194 0.19206814 0.19521932 0.19827749 0.20125321\n",
            " 0.20415565 0.2069924  0.20977011 0.21249446 0.21517071 0.21780354\n",
            " 0.2203977  0.22295748 0.22548731 0.22799125]\n",
            "6 day output [[0.2304732]]\n",
            "7 day input [0.18974673 0.18055556 0.18239379 0.17708333 0.17810458 0.18055556\n",
            " 0.17810458 0.17851307 0.19607843 0.18913399 0.18954248 0.19403595\n",
            " 0.19444444 0.20200163 0.19771242 0.19934641 0.19873366 0.1997549\n",
            " 0.2128268  0.21568627 0.20445261 0.21772876 0.21098856 0.21425654\n",
            " 0.19750817 0.18811275 0.17851307 0.17381536 0.16033497 0.16564542\n",
            " 0.17116013 0.17422386 0.18035131 0.17401961 0.16278595 0.16973039\n",
            " 0.17810458 0.17034314 0.16830065 0.17279412 0.17544935 0.18382353\n",
            " 0.19138072 0.18913399 0.19097222 0.17238562 0.16830065 0.1693219\n",
            " 0.17177288 0.16156046 0.14971405 0.1503268  0.15196078 0.14726307\n",
            " 0.14501634 0.14603758 0.12479575 0.13112745 0.11397059 0.1190768\n",
            " 0.12377451 0.13562092 0.12908497 0.13459967 0.12806373 0.13031046\n",
            " 0.12724673 0.13521242 0.14522059 0.15257353 0.14848856 0.14338235\n",
            " 0.14562908 0.15236928 0.15400327 0.14971405 0.1621732  0.16319444\n",
            " 0.16584967 0.17078257 0.17457455 0.1783099  0.18193799 0.18543847\n",
            " 0.18881194 0.19206814 0.19521932 0.19827749 0.20125321 0.20415565\n",
            " 0.2069924  0.20977011 0.21249446 0.21517071 0.21780354 0.2203977\n",
            " 0.22295748 0.22548731 0.22799125 0.23047321]\n",
            "7 day output [[0.23293683]]\n",
            "8 day input [0.18055556 0.18239379 0.17708333 0.17810458 0.18055556 0.17810458\n",
            " 0.17851307 0.19607843 0.18913399 0.18954248 0.19403595 0.19444444\n",
            " 0.20200163 0.19771242 0.19934641 0.19873366 0.1997549  0.2128268\n",
            " 0.21568627 0.20445261 0.21772876 0.21098856 0.21425654 0.19750817\n",
            " 0.18811275 0.17851307 0.17381536 0.16033497 0.16564542 0.17116013\n",
            " 0.17422386 0.18035131 0.17401961 0.16278595 0.16973039 0.17810458\n",
            " 0.17034314 0.16830065 0.17279412 0.17544935 0.18382353 0.19138072\n",
            " 0.18913399 0.19097222 0.17238562 0.16830065 0.1693219  0.17177288\n",
            " 0.16156046 0.14971405 0.1503268  0.15196078 0.14726307 0.14501634\n",
            " 0.14603758 0.12479575 0.13112745 0.11397059 0.1190768  0.12377451\n",
            " 0.13562092 0.12908497 0.13459967 0.12806373 0.13031046 0.12724673\n",
            " 0.13521242 0.14522059 0.15257353 0.14848856 0.14338235 0.14562908\n",
            " 0.15236928 0.15400327 0.14971405 0.1621732  0.16319444 0.16584967\n",
            " 0.17078257 0.17457455 0.1783099  0.18193799 0.18543847 0.18881194\n",
            " 0.19206814 0.19521932 0.19827749 0.20125321 0.20415565 0.2069924\n",
            " 0.20977011 0.21249446 0.21517071 0.21780354 0.2203977  0.22295748\n",
            " 0.22548731 0.22799125 0.23047321 0.23293683]\n",
            "8 day output [[0.2353855]]\n",
            "9 day input [0.18239379 0.17708333 0.17810458 0.18055556 0.17810458 0.17851307\n",
            " 0.19607843 0.18913399 0.18954248 0.19403595 0.19444444 0.20200163\n",
            " 0.19771242 0.19934641 0.19873366 0.1997549  0.2128268  0.21568627\n",
            " 0.20445261 0.21772876 0.21098856 0.21425654 0.19750817 0.18811275\n",
            " 0.17851307 0.17381536 0.16033497 0.16564542 0.17116013 0.17422386\n",
            " 0.18035131 0.17401961 0.16278595 0.16973039 0.17810458 0.17034314\n",
            " 0.16830065 0.17279412 0.17544935 0.18382353 0.19138072 0.18913399\n",
            " 0.19097222 0.17238562 0.16830065 0.1693219  0.17177288 0.16156046\n",
            " 0.14971405 0.1503268  0.15196078 0.14726307 0.14501634 0.14603758\n",
            " 0.12479575 0.13112745 0.11397059 0.1190768  0.12377451 0.13562092\n",
            " 0.12908497 0.13459967 0.12806373 0.13031046 0.12724673 0.13521242\n",
            " 0.14522059 0.15257353 0.14848856 0.14338235 0.14562908 0.15236928\n",
            " 0.15400327 0.14971405 0.1621732  0.16319444 0.16584967 0.17078257\n",
            " 0.17457455 0.1783099  0.18193799 0.18543847 0.18881194 0.19206814\n",
            " 0.19521932 0.19827749 0.20125321 0.20415565 0.2069924  0.20977011\n",
            " 0.21249446 0.21517071 0.21780354 0.2203977  0.22295748 0.22548731\n",
            " 0.22799125 0.23047321 0.23293683 0.23538551]\n",
            "9 day output [[0.23782212]]\n",
            "10 day input [0.17708333 0.17810458 0.18055556 0.17810458 0.17851307 0.19607843\n",
            " 0.18913399 0.18954248 0.19403595 0.19444444 0.20200163 0.19771242\n",
            " 0.19934641 0.19873366 0.1997549  0.2128268  0.21568627 0.20445261\n",
            " 0.21772876 0.21098856 0.21425654 0.19750817 0.18811275 0.17851307\n",
            " 0.17381536 0.16033497 0.16564542 0.17116013 0.17422386 0.18035131\n",
            " 0.17401961 0.16278595 0.16973039 0.17810458 0.17034314 0.16830065\n",
            " 0.17279412 0.17544935 0.18382353 0.19138072 0.18913399 0.19097222\n",
            " 0.17238562 0.16830065 0.1693219  0.17177288 0.16156046 0.14971405\n",
            " 0.1503268  0.15196078 0.14726307 0.14501634 0.14603758 0.12479575\n",
            " 0.13112745 0.11397059 0.1190768  0.12377451 0.13562092 0.12908497\n",
            " 0.13459967 0.12806373 0.13031046 0.12724673 0.13521242 0.14522059\n",
            " 0.15257353 0.14848856 0.14338235 0.14562908 0.15236928 0.15400327\n",
            " 0.14971405 0.1621732  0.16319444 0.16584967 0.17078257 0.17457455\n",
            " 0.1783099  0.18193799 0.18543847 0.18881194 0.19206814 0.19521932\n",
            " 0.19827749 0.20125321 0.20415565 0.2069924  0.20977011 0.21249446\n",
            " 0.21517071 0.21780354 0.2203977  0.22295748 0.22548731 0.22799125\n",
            " 0.23047321 0.23293683 0.23538551 0.23782212]\n",
            "10 day output [[0.24024943]]\n",
            "11 day input [0.17810458 0.18055556 0.17810458 0.17851307 0.19607843 0.18913399\n",
            " 0.18954248 0.19403595 0.19444444 0.20200163 0.19771242 0.19934641\n",
            " 0.19873366 0.1997549  0.2128268  0.21568627 0.20445261 0.21772876\n",
            " 0.21098856 0.21425654 0.19750817 0.18811275 0.17851307 0.17381536\n",
            " 0.16033497 0.16564542 0.17116013 0.17422386 0.18035131 0.17401961\n",
            " 0.16278595 0.16973039 0.17810458 0.17034314 0.16830065 0.17279412\n",
            " 0.17544935 0.18382353 0.19138072 0.18913399 0.19097222 0.17238562\n",
            " 0.16830065 0.1693219  0.17177288 0.16156046 0.14971405 0.1503268\n",
            " 0.15196078 0.14726307 0.14501634 0.14603758 0.12479575 0.13112745\n",
            " 0.11397059 0.1190768  0.12377451 0.13562092 0.12908497 0.13459967\n",
            " 0.12806373 0.13031046 0.12724673 0.13521242 0.14522059 0.15257353\n",
            " 0.14848856 0.14338235 0.14562908 0.15236928 0.15400327 0.14971405\n",
            " 0.1621732  0.16319444 0.16584967 0.17078257 0.17457455 0.1783099\n",
            " 0.18193799 0.18543847 0.18881194 0.19206814 0.19521932 0.19827749\n",
            " 0.20125321 0.20415565 0.2069924  0.20977011 0.21249446 0.21517071\n",
            " 0.21780354 0.2203977  0.22295748 0.22548731 0.22799125 0.23047321\n",
            " 0.23293683 0.23538551 0.23782212 0.24024943]\n",
            "11 day output [[0.24266963]]\n",
            "12 day input [0.18055556 0.17810458 0.17851307 0.19607843 0.18913399 0.18954248\n",
            " 0.19403595 0.19444444 0.20200163 0.19771242 0.19934641 0.19873366\n",
            " 0.1997549  0.2128268  0.21568627 0.20445261 0.21772876 0.21098856\n",
            " 0.21425654 0.19750817 0.18811275 0.17851307 0.17381536 0.16033497\n",
            " 0.16564542 0.17116013 0.17422386 0.18035131 0.17401961 0.16278595\n",
            " 0.16973039 0.17810458 0.17034314 0.16830065 0.17279412 0.17544935\n",
            " 0.18382353 0.19138072 0.18913399 0.19097222 0.17238562 0.16830065\n",
            " 0.1693219  0.17177288 0.16156046 0.14971405 0.1503268  0.15196078\n",
            " 0.14726307 0.14501634 0.14603758 0.12479575 0.13112745 0.11397059\n",
            " 0.1190768  0.12377451 0.13562092 0.12908497 0.13459967 0.12806373\n",
            " 0.13031046 0.12724673 0.13521242 0.14522059 0.15257353 0.14848856\n",
            " 0.14338235 0.14562908 0.15236928 0.15400327 0.14971405 0.1621732\n",
            " 0.16319444 0.16584967 0.17078257 0.17457455 0.1783099  0.18193799\n",
            " 0.18543847 0.18881194 0.19206814 0.19521932 0.19827749 0.20125321\n",
            " 0.20415565 0.2069924  0.20977011 0.21249446 0.21517071 0.21780354\n",
            " 0.2203977  0.22295748 0.22548731 0.22799125 0.23047321 0.23293683\n",
            " 0.23538551 0.23782212 0.24024943 0.24266963]\n",
            "12 day output [[0.24508485]]\n",
            "13 day input [0.17810458 0.17851307 0.19607843 0.18913399 0.18954248 0.19403595\n",
            " 0.19444444 0.20200163 0.19771242 0.19934641 0.19873366 0.1997549\n",
            " 0.2128268  0.21568627 0.20445261 0.21772876 0.21098856 0.21425654\n",
            " 0.19750817 0.18811275 0.17851307 0.17381536 0.16033497 0.16564542\n",
            " 0.17116013 0.17422386 0.18035131 0.17401961 0.16278595 0.16973039\n",
            " 0.17810458 0.17034314 0.16830065 0.17279412 0.17544935 0.18382353\n",
            " 0.19138072 0.18913399 0.19097222 0.17238562 0.16830065 0.1693219\n",
            " 0.17177288 0.16156046 0.14971405 0.1503268  0.15196078 0.14726307\n",
            " 0.14501634 0.14603758 0.12479575 0.13112745 0.11397059 0.1190768\n",
            " 0.12377451 0.13562092 0.12908497 0.13459967 0.12806373 0.13031046\n",
            " 0.12724673 0.13521242 0.14522059 0.15257353 0.14848856 0.14338235\n",
            " 0.14562908 0.15236928 0.15400327 0.14971405 0.1621732  0.16319444\n",
            " 0.16584967 0.17078257 0.17457455 0.1783099  0.18193799 0.18543847\n",
            " 0.18881194 0.19206814 0.19521932 0.19827749 0.20125321 0.20415565\n",
            " 0.2069924  0.20977011 0.21249446 0.21517071 0.21780354 0.2203977\n",
            " 0.22295748 0.22548731 0.22799125 0.23047321 0.23293683 0.23538551\n",
            " 0.23782212 0.24024943 0.24266963 0.24508485]\n",
            "13 day output [[0.24749656]]\n",
            "14 day input [0.17851307 0.19607843 0.18913399 0.18954248 0.19403595 0.19444444\n",
            " 0.20200163 0.19771242 0.19934641 0.19873366 0.1997549  0.2128268\n",
            " 0.21568627 0.20445261 0.21772876 0.21098856 0.21425654 0.19750817\n",
            " 0.18811275 0.17851307 0.17381536 0.16033497 0.16564542 0.17116013\n",
            " 0.17422386 0.18035131 0.17401961 0.16278595 0.16973039 0.17810458\n",
            " 0.17034314 0.16830065 0.17279412 0.17544935 0.18382353 0.19138072\n",
            " 0.18913399 0.19097222 0.17238562 0.16830065 0.1693219  0.17177288\n",
            " 0.16156046 0.14971405 0.1503268  0.15196078 0.14726307 0.14501634\n",
            " 0.14603758 0.12479575 0.13112745 0.11397059 0.1190768  0.12377451\n",
            " 0.13562092 0.12908497 0.13459967 0.12806373 0.13031046 0.12724673\n",
            " 0.13521242 0.14522059 0.15257353 0.14848856 0.14338235 0.14562908\n",
            " 0.15236928 0.15400327 0.14971405 0.1621732  0.16319444 0.16584967\n",
            " 0.17078257 0.17457455 0.1783099  0.18193799 0.18543847 0.18881194\n",
            " 0.19206814 0.19521932 0.19827749 0.20125321 0.20415565 0.2069924\n",
            " 0.20977011 0.21249446 0.21517071 0.21780354 0.2203977  0.22295748\n",
            " 0.22548731 0.22799125 0.23047321 0.23293683 0.23538551 0.23782212\n",
            " 0.24024943 0.24266963 0.24508485 0.24749656]\n",
            "14 day output [[0.24990617]]\n",
            "15 day input [0.19607843 0.18913399 0.18954248 0.19403595 0.19444444 0.20200163\n",
            " 0.19771242 0.19934641 0.19873366 0.1997549  0.2128268  0.21568627\n",
            " 0.20445261 0.21772876 0.21098856 0.21425654 0.19750817 0.18811275\n",
            " 0.17851307 0.17381536 0.16033497 0.16564542 0.17116013 0.17422386\n",
            " 0.18035131 0.17401961 0.16278595 0.16973039 0.17810458 0.17034314\n",
            " 0.16830065 0.17279412 0.17544935 0.18382353 0.19138072 0.18913399\n",
            " 0.19097222 0.17238562 0.16830065 0.1693219  0.17177288 0.16156046\n",
            " 0.14971405 0.1503268  0.15196078 0.14726307 0.14501634 0.14603758\n",
            " 0.12479575 0.13112745 0.11397059 0.1190768  0.12377451 0.13562092\n",
            " 0.12908497 0.13459967 0.12806373 0.13031046 0.12724673 0.13521242\n",
            " 0.14522059 0.15257353 0.14848856 0.14338235 0.14562908 0.15236928\n",
            " 0.15400327 0.14971405 0.1621732  0.16319444 0.16584967 0.17078257\n",
            " 0.17457455 0.1783099  0.18193799 0.18543847 0.18881194 0.19206814\n",
            " 0.19521932 0.19827749 0.20125321 0.20415565 0.2069924  0.20977011\n",
            " 0.21249446 0.21517071 0.21780354 0.2203977  0.22295748 0.22548731\n",
            " 0.22799125 0.23047321 0.23293683 0.23538551 0.23782212 0.24024943\n",
            " 0.24266963 0.24508485 0.24749656 0.24990617]\n",
            "15 day output [[0.2523148]]\n",
            "[[0.21780353784561157], [0.2203976958990097], [0.22295747697353363], [0.22548730671405792], [0.2279912531375885], [0.23047320544719696], [0.232936829328537], [0.23538550734519958], [0.23782211542129517], [0.2402494251728058], [0.24266962707042694], [0.24508485198020935], [0.24749656021595], [0.24990616738796234], [0.25231480598449707]]\n"
          ]
        }
      ]
    },
    {
      "cell_type": "code",
      "metadata": {
        "id": "3jK0gblnjAhP"
      },
      "source": [
        ""
      ],
      "execution_count": null,
      "outputs": []
    }
  ]
}